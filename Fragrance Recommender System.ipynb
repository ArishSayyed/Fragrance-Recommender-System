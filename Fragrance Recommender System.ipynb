{
 "cells": [
  {
   "cell_type": "code",
   "execution_count": 1,
   "metadata": {},
   "outputs": [
    {
     "name": "stderr",
     "output_type": "stream",
     "text": [
      "[nltk_data] Downloading package stopwords to E:\\anaconda3\\nltk_data...\n",
      "[nltk_data]   Package stopwords is already up-to-date!\n"
     ]
    },
    {
     "data": {
      "text/plain": [
       "True"
      ]
     },
     "execution_count": 1,
     "metadata": {},
     "output_type": "execute_result"
    }
   ],
   "source": [
    "import nltk\n",
    "nltk.download('stopwords')"
   ]
  },
  {
   "cell_type": "code",
   "execution_count": 2,
   "metadata": {},
   "outputs": [],
   "source": [
    "import pandas as pd\n",
    "from nltk.stem import SnowballStemmer\n",
    "from nltk.tokenize import RegexpTokenizer\n",
    "from nltk.corpus import stopwords\n",
    "from sklearn.feature_extraction.text import TfidfVectorizer\n",
    "from sklearn.metrics.pairwise import cosine_similarity"
   ]
  },
  {
   "cell_type": "code",
   "execution_count": 3,
   "metadata": {},
   "outputs": [],
   "source": [
    "#reading data from excel\n",
    "main_df = pd.read_excel('main.xlsx')"
   ]
  },
  {
   "cell_type": "code",
   "execution_count": 4,
   "metadata": {},
   "outputs": [
    {
     "data": {
      "text/html": [
       "<div>\n",
       "<style scoped>\n",
       "    .dataframe tbody tr th:only-of-type {\n",
       "        vertical-align: middle;\n",
       "    }\n",
       "\n",
       "    .dataframe tbody tr th {\n",
       "        vertical-align: top;\n",
       "    }\n",
       "\n",
       "    .dataframe thead th {\n",
       "        text-align: right;\n",
       "    }\n",
       "</style>\n",
       "<table border=\"1\" class=\"dataframe\">\n",
       "  <thead>\n",
       "    <tr style=\"text-align: right;\">\n",
       "      <th></th>\n",
       "      <th>Fragrance</th>\n",
       "      <th>By</th>\n",
       "      <th>Image</th>\n",
       "      <th>Description</th>\n",
       "    </tr>\n",
       "  </thead>\n",
       "  <tbody>\n",
       "    <tr>\n",
       "      <th>0</th>\n",
       "      <td>Bright Crystal</td>\n",
       "      <td>Versace</td>\n",
       "      <td>https://img.perfume.com/images/products/sku/sm...</td>\n",
       "      <td>bright crystal versac perfum rejuven refresh s...</td>\n",
       "    </tr>\n",
       "    <tr>\n",
       "      <th>1</th>\n",
       "      <td>Light Blue</td>\n",
       "      <td>Dolce &amp; Gabbana</td>\n",
       "      <td>https://img.perfume.com/images/products/sku/sm...</td>\n",
       "      <td>light blue dolc gabbana perfum appli dolc gabb...</td>\n",
       "    </tr>\n",
       "    <tr>\n",
       "      <th>2</th>\n",
       "      <td>Jimmy Choo</td>\n",
       "      <td>Jimmy Choo</td>\n",
       "      <td>https://img.perfume.com/images/products/sku/sm...</td>\n",
       "      <td>jimmi choo jimmi choo perfum name synonym luxu...</td>\n",
       "    </tr>\n",
       "    <tr>\n",
       "      <th>3</th>\n",
       "      <td>Eternity</td>\n",
       "      <td>Calvin Klein</td>\n",
       "      <td>https://img.perfume.com/images/products/sku/sm...</td>\n",
       "      <td>etern calvin klein perfum rediscov passion fem...</td>\n",
       "    </tr>\n",
       "    <tr>\n",
       "      <th>4</th>\n",
       "      <td>Pink Sugar</td>\n",
       "      <td>Aquolina</td>\n",
       "      <td>https://img.perfume.com/images/products/sku/sm...</td>\n",
       "      <td>pink sugar aquolina perfum think pink sugar tw...</td>\n",
       "    </tr>\n",
       "    <tr>\n",
       "      <th>...</th>\n",
       "      <td>...</td>\n",
       "      <td>...</td>\n",
       "      <td>...</td>\n",
       "      <td>...</td>\n",
       "    </tr>\n",
       "    <tr>\n",
       "      <th>955</th>\n",
       "      <td>Bodycology Cherry Blossom Cedarwood And Pear</td>\n",
       "      <td>Bodycology</td>\n",
       "      <td>https://img.perfume.com/images/products/sku/sm...</td>\n",
       "      <td>Bodycology Cherry Blossom Cedarwood And Pear b...</td>\n",
       "    </tr>\n",
       "    <tr>\n",
       "      <th>956</th>\n",
       "      <td>Beyonce Heat Kissed</td>\n",
       "      <td>Beyonce</td>\n",
       "      <td>https://img.perfume.com/images/products/sku/sm...</td>\n",
       "      <td>Beyonce Heat Kissed by Beyonce Perfume. Wear H...</td>\n",
       "    </tr>\n",
       "    <tr>\n",
       "      <th>957</th>\n",
       "      <td>4711 Acqua Colonia Blood Orange &amp; Basil</td>\n",
       "      <td>4711</td>\n",
       "      <td>https://img.perfume.com/images/products/sku/sm...</td>\n",
       "      <td>4711 Acqua Colonia Blood Orange &amp; Basil by 471...</td>\n",
       "    </tr>\n",
       "    <tr>\n",
       "      <th>958</th>\n",
       "      <td>24 Elixir Neroli</td>\n",
       "      <td>Scentstory</td>\n",
       "      <td>https://img.perfume.com/images/products/sku/sm...</td>\n",
       "      <td>24 Elixir Neroli by Scentstory Cologne. 24 Eli...</td>\n",
       "    </tr>\n",
       "    <tr>\n",
       "      <th>959</th>\n",
       "      <td>Viva La Juicy Pink Couture</td>\n",
       "      <td>Juicy Couture</td>\n",
       "      <td>https://img.perfume.com/images/products/sku/sm...</td>\n",
       "      <td>Viva La Juicy Pink Couture by Juicy Couture Pe...</td>\n",
       "    </tr>\n",
       "  </tbody>\n",
       "</table>\n",
       "<p>960 rows × 4 columns</p>\n",
       "</div>"
      ],
      "text/plain": [
       "                                        Fragrance               By  \\\n",
       "0                                  Bright Crystal          Versace   \n",
       "1                                      Light Blue  Dolce & Gabbana   \n",
       "2                                      Jimmy Choo       Jimmy Choo   \n",
       "3                                        Eternity     Calvin Klein   \n",
       "4                                      Pink Sugar         Aquolina   \n",
       "..                                            ...              ...   \n",
       "955  Bodycology Cherry Blossom Cedarwood And Pear       Bodycology   \n",
       "956                           Beyonce Heat Kissed          Beyonce   \n",
       "957       4711 Acqua Colonia Blood Orange & Basil             4711   \n",
       "958                              24 Elixir Neroli       Scentstory   \n",
       "959                    Viva La Juicy Pink Couture    Juicy Couture   \n",
       "\n",
       "                                                 Image  \\\n",
       "0    https://img.perfume.com/images/products/sku/sm...   \n",
       "1    https://img.perfume.com/images/products/sku/sm...   \n",
       "2    https://img.perfume.com/images/products/sku/sm...   \n",
       "3    https://img.perfume.com/images/products/sku/sm...   \n",
       "4    https://img.perfume.com/images/products/sku/sm...   \n",
       "..                                                 ...   \n",
       "955  https://img.perfume.com/images/products/sku/sm...   \n",
       "956  https://img.perfume.com/images/products/sku/sm...   \n",
       "957  https://img.perfume.com/images/products/sku/sm...   \n",
       "958  https://img.perfume.com/images/products/sku/sm...   \n",
       "959  https://img.perfume.com/images/products/sku/sm...   \n",
       "\n",
       "                                           Description  \n",
       "0    bright crystal versac perfum rejuven refresh s...  \n",
       "1    light blue dolc gabbana perfum appli dolc gabb...  \n",
       "2    jimmi choo jimmi choo perfum name synonym luxu...  \n",
       "3    etern calvin klein perfum rediscov passion fem...  \n",
       "4    pink sugar aquolina perfum think pink sugar tw...  \n",
       "..                                                 ...  \n",
       "955  Bodycology Cherry Blossom Cedarwood And Pear b...  \n",
       "956  Beyonce Heat Kissed by Beyonce Perfume. Wear H...  \n",
       "957  4711 Acqua Colonia Blood Orange & Basil by 471...  \n",
       "958  24 Elixir Neroli by Scentstory Cologne. 24 Eli...  \n",
       "959  Viva La Juicy Pink Couture by Juicy Couture Pe...  \n",
       "\n",
       "[960 rows x 4 columns]"
      ]
     },
     "execution_count": 4,
     "metadata": {},
     "output_type": "execute_result"
    }
   ],
   "source": [
    "main_df"
   ]
  },
  {
   "cell_type": "code",
   "execution_count": 5,
   "metadata": {},
   "outputs": [
    {
     "name": "stdout",
     "output_type": "stream",
     "text": [
      "<class 'pandas.core.frame.DataFrame'>\n",
      "RangeIndex: 960 entries, 0 to 959\n",
      "Data columns (total 4 columns):\n",
      " #   Column       Non-Null Count  Dtype \n",
      "---  ------       --------------  ----- \n",
      " 0   Fragrance    960 non-null    object\n",
      " 1   By           960 non-null    object\n",
      " 2   Image        960 non-null    object\n",
      " 3   Description  960 non-null    object\n",
      "dtypes: object(4)\n",
      "memory usage: 30.1+ KB\n"
     ]
    }
   ],
   "source": [
    "main_df.info()"
   ]
  },
  {
   "cell_type": "code",
   "execution_count": 6,
   "metadata": {},
   "outputs": [
    {
     "data": {
      "text/html": [
       "<div>\n",
       "<style scoped>\n",
       "    .dataframe tbody tr th:only-of-type {\n",
       "        vertical-align: middle;\n",
       "    }\n",
       "\n",
       "    .dataframe tbody tr th {\n",
       "        vertical-align: top;\n",
       "    }\n",
       "\n",
       "    .dataframe thead th {\n",
       "        text-align: right;\n",
       "    }\n",
       "</style>\n",
       "<table border=\"1\" class=\"dataframe\">\n",
       "  <thead>\n",
       "    <tr style=\"text-align: right;\">\n",
       "      <th></th>\n",
       "      <th>Fragrance</th>\n",
       "      <th>By</th>\n",
       "      <th>Image</th>\n",
       "      <th>Description</th>\n",
       "    </tr>\n",
       "  </thead>\n",
       "  <tbody>\n",
       "    <tr>\n",
       "      <th>count</th>\n",
       "      <td>960</td>\n",
       "      <td>960</td>\n",
       "      <td>960</td>\n",
       "      <td>960</td>\n",
       "    </tr>\n",
       "    <tr>\n",
       "      <th>unique</th>\n",
       "      <td>958</td>\n",
       "      <td>215</td>\n",
       "      <td>958</td>\n",
       "      <td>959</td>\n",
       "    </tr>\n",
       "    <tr>\n",
       "      <th>top</th>\n",
       "      <td>Modern Muse</td>\n",
       "      <td>Calvin Klein</td>\n",
       "      <td>https://img.perfume.com/images/products/sku/sm...</td>\n",
       "      <td>wind song princ matchabelli perfum creat 1952 ...</td>\n",
       "    </tr>\n",
       "    <tr>\n",
       "      <th>freq</th>\n",
       "      <td>2</td>\n",
       "      <td>33</td>\n",
       "      <td>2</td>\n",
       "      <td>2</td>\n",
       "    </tr>\n",
       "  </tbody>\n",
       "</table>\n",
       "</div>"
      ],
      "text/plain": [
       "          Fragrance            By  \\\n",
       "count           960           960   \n",
       "unique          958           215   \n",
       "top     Modern Muse  Calvin Klein   \n",
       "freq              2            33   \n",
       "\n",
       "                                                    Image  \\\n",
       "count                                                 960   \n",
       "unique                                                958   \n",
       "top     https://img.perfume.com/images/products/sku/sm...   \n",
       "freq                                                    2   \n",
       "\n",
       "                                              Description  \n",
       "count                                                 960  \n",
       "unique                                                959  \n",
       "top     wind song princ matchabelli perfum creat 1952 ...  \n",
       "freq                                                    2  "
      ]
     },
     "execution_count": 6,
     "metadata": {},
     "output_type": "execute_result"
    }
   ],
   "source": [
    "main_df.describe()"
   ]
  },
  {
   "cell_type": "code",
   "execution_count": 7,
   "metadata": {},
   "outputs": [],
   "source": [
    "main_df.drop_duplicates(inplace = True)"
   ]
  },
  {
   "cell_type": "code",
   "execution_count": 8,
   "metadata": {},
   "outputs": [
    {
     "name": "stdout",
     "output_type": "stream",
     "text": [
      "<class 'pandas.core.frame.DataFrame'>\n",
      "Int64Index: 959 entries, 0 to 959\n",
      "Data columns (total 4 columns):\n",
      " #   Column       Non-Null Count  Dtype \n",
      "---  ------       --------------  ----- \n",
      " 0   Fragrance    959 non-null    object\n",
      " 1   By           959 non-null    object\n",
      " 2   Image        959 non-null    object\n",
      " 3   Description  959 non-null    object\n",
      "dtypes: object(4)\n",
      "memory usage: 37.5+ KB\n"
     ]
    }
   ],
   "source": [
    "main_df.info()"
   ]
  },
  {
   "cell_type": "code",
   "execution_count": 9,
   "metadata": {},
   "outputs": [],
   "source": [
    "def clean_text(text):\n",
    "    #make text lower case\n",
    "    text = text.lower()\n",
    "    #remove stop words\n",
    "    text = text.split()\n",
    "    stops = set(stopwords.words(\"english\"))\n",
    "    text = [w for w in text if not w in stops]\n",
    "    text = \" \".join(text)\n",
    "    #remove punctuations\n",
    "    tokenizer = RegexpTokenizer(r'\\w+')\n",
    "    text = tokenizer.tokenize(text)\n",
    "    text = \" \".join(text)\n",
    "    #stem words\n",
    "    text = text.split()\n",
    "    stemmer = SnowballStemmer('english')\n",
    "    stemmed_words = [stemmer.stem(word) for word in text]\n",
    "    text = \" \".join(stemmed_words)\n",
    "    return text"
   ]
  },
  {
   "cell_type": "code",
   "execution_count": 10,
   "metadata": {},
   "outputs": [],
   "source": [
    "main_df['Description'] = main_df.Description.apply(clean_text)"
   ]
  },
  {
   "cell_type": "code",
   "execution_count": 11,
   "metadata": {},
   "outputs": [
    {
     "data": {
      "text/html": [
       "<div>\n",
       "<style scoped>\n",
       "    .dataframe tbody tr th:only-of-type {\n",
       "        vertical-align: middle;\n",
       "    }\n",
       "\n",
       "    .dataframe tbody tr th {\n",
       "        vertical-align: top;\n",
       "    }\n",
       "\n",
       "    .dataframe thead th {\n",
       "        text-align: right;\n",
       "    }\n",
       "</style>\n",
       "<table border=\"1\" class=\"dataframe\">\n",
       "  <thead>\n",
       "    <tr style=\"text-align: right;\">\n",
       "      <th></th>\n",
       "      <th>Fragrance</th>\n",
       "      <th>By</th>\n",
       "      <th>Image</th>\n",
       "      <th>Description</th>\n",
       "    </tr>\n",
       "  </thead>\n",
       "  <tbody>\n",
       "    <tr>\n",
       "      <th>0</th>\n",
       "      <td>Bright Crystal</td>\n",
       "      <td>Versace</td>\n",
       "      <td>https://img.perfume.com/images/products/sku/sm...</td>\n",
       "      <td>bright crystal versac perfum rejuven refresh s...</td>\n",
       "    </tr>\n",
       "    <tr>\n",
       "      <th>1</th>\n",
       "      <td>Light Blue</td>\n",
       "      <td>Dolce &amp; Gabbana</td>\n",
       "      <td>https://img.perfume.com/images/products/sku/sm...</td>\n",
       "      <td>light blue dolc gabbana perfum appli dolc gabb...</td>\n",
       "    </tr>\n",
       "    <tr>\n",
       "      <th>2</th>\n",
       "      <td>Jimmy Choo</td>\n",
       "      <td>Jimmy Choo</td>\n",
       "      <td>https://img.perfume.com/images/products/sku/sm...</td>\n",
       "      <td>jimmi choo jimmi choo perfum name synonym luxu...</td>\n",
       "    </tr>\n",
       "    <tr>\n",
       "      <th>3</th>\n",
       "      <td>Eternity</td>\n",
       "      <td>Calvin Klein</td>\n",
       "      <td>https://img.perfume.com/images/products/sku/sm...</td>\n",
       "      <td>etern calvin klein perfum rediscov passion fem...</td>\n",
       "    </tr>\n",
       "    <tr>\n",
       "      <th>4</th>\n",
       "      <td>Pink Sugar</td>\n",
       "      <td>Aquolina</td>\n",
       "      <td>https://img.perfume.com/images/products/sku/sm...</td>\n",
       "      <td>pink sugar aquolina perfum think pink sugar tw...</td>\n",
       "    </tr>\n",
       "  </tbody>\n",
       "</table>\n",
       "</div>"
      ],
      "text/plain": [
       "        Fragrance               By  \\\n",
       "0  Bright Crystal          Versace   \n",
       "1      Light Blue  Dolce & Gabbana   \n",
       "2      Jimmy Choo       Jimmy Choo   \n",
       "3        Eternity     Calvin Klein   \n",
       "4      Pink Sugar         Aquolina   \n",
       "\n",
       "                                               Image  \\\n",
       "0  https://img.perfume.com/images/products/sku/sm...   \n",
       "1  https://img.perfume.com/images/products/sku/sm...   \n",
       "2  https://img.perfume.com/images/products/sku/sm...   \n",
       "3  https://img.perfume.com/images/products/sku/sm...   \n",
       "4  https://img.perfume.com/images/products/sku/sm...   \n",
       "\n",
       "                                         Description  \n",
       "0  bright crystal versac perfum rejuven refresh s...  \n",
       "1  light blue dolc gabbana perfum appli dolc gabb...  \n",
       "2  jimmi choo jimmi choo perfum name synonym luxu...  \n",
       "3  etern calvin klein perfum rediscov passion fem...  \n",
       "4  pink sugar aquolina perfum think pink sugar tw...  "
      ]
     },
     "execution_count": 11,
     "metadata": {},
     "output_type": "execute_result"
    }
   ],
   "source": [
    "main_df.head()"
   ]
  },
  {
   "cell_type": "code",
   "execution_count": 12,
   "metadata": {},
   "outputs": [
    {
     "name": "stdout",
     "output_type": "stream",
     "text": [
      "(959, 1333)\n"
     ]
    }
   ],
   "source": [
    "#Fit TFIDF \n",
    "#Learn vocabulary and tfidf from all style_ids.\n",
    "tf = TfidfVectorizer(analyzer='word', \n",
    "                     min_df=10,\n",
    "                     ngram_range=(1, 2),\n",
    "                     #max_features=1000,\n",
    "                     stop_words='english')\n",
    "tf.fit(main_df['Description'])\n",
    "\n",
    "#Transform style_id products to document-term matrix.\n",
    "tfidf_matrix = tf.transform(main_df['Description'])\n",
    "\n",
    "print(tfidf_matrix.shape)"
   ]
  },
  {
   "cell_type": "code",
   "execution_count": 13,
   "metadata": {},
   "outputs": [
    {
     "name": "stdout",
     "output_type": "stream",
     "text": [
      "(959, 500)\n"
     ]
    }
   ],
   "source": [
    "# Compress with SVD\n",
    "from sklearn.decomposition import TruncatedSVD\n",
    "svd = TruncatedSVD(n_components=500)   #500\n",
    "latent_matrix = svd.fit_transform(tfidf_matrix)\n",
    "\n",
    "print(latent_matrix.shape)"
   ]
  },
  {
   "cell_type": "code",
   "execution_count": 14,
   "metadata": {},
   "outputs": [
    {
     "name": "stdout",
     "output_type": "stream",
     "text": [
      "(959, 25)\n"
     ]
    },
    {
     "data": {
      "text/html": [
       "<div>\n",
       "<style scoped>\n",
       "    .dataframe tbody tr th:only-of-type {\n",
       "        vertical-align: middle;\n",
       "    }\n",
       "\n",
       "    .dataframe tbody tr th {\n",
       "        vertical-align: top;\n",
       "    }\n",
       "\n",
       "    .dataframe thead th {\n",
       "        text-align: right;\n",
       "    }\n",
       "</style>\n",
       "<table border=\"1\" class=\"dataframe\">\n",
       "  <thead>\n",
       "    <tr style=\"text-align: right;\">\n",
       "      <th></th>\n",
       "      <th>0</th>\n",
       "      <th>1</th>\n",
       "      <th>2</th>\n",
       "      <th>3</th>\n",
       "      <th>4</th>\n",
       "      <th>5</th>\n",
       "      <th>6</th>\n",
       "      <th>7</th>\n",
       "      <th>8</th>\n",
       "      <th>9</th>\n",
       "      <th>...</th>\n",
       "      <th>15</th>\n",
       "      <th>16</th>\n",
       "      <th>17</th>\n",
       "      <th>18</th>\n",
       "      <th>19</th>\n",
       "      <th>20</th>\n",
       "      <th>21</th>\n",
       "      <th>22</th>\n",
       "      <th>23</th>\n",
       "      <th>24</th>\n",
       "    </tr>\n",
       "    <tr>\n",
       "      <th>Fragrance</th>\n",
       "      <th></th>\n",
       "      <th></th>\n",
       "      <th></th>\n",
       "      <th></th>\n",
       "      <th></th>\n",
       "      <th></th>\n",
       "      <th></th>\n",
       "      <th></th>\n",
       "      <th></th>\n",
       "      <th></th>\n",
       "      <th></th>\n",
       "      <th></th>\n",
       "      <th></th>\n",
       "      <th></th>\n",
       "      <th></th>\n",
       "      <th></th>\n",
       "      <th></th>\n",
       "      <th></th>\n",
       "      <th></th>\n",
       "      <th></th>\n",
       "      <th></th>\n",
       "    </tr>\n",
       "  </thead>\n",
       "  <tbody>\n",
       "    <tr>\n",
       "      <th>Bright Crystal</th>\n",
       "      <td>0.186023</td>\n",
       "      <td>0.067067</td>\n",
       "      <td>-0.079168</td>\n",
       "      <td>0.017677</td>\n",
       "      <td>0.003714</td>\n",
       "      <td>-0.003262</td>\n",
       "      <td>-0.053653</td>\n",
       "      <td>0.024732</td>\n",
       "      <td>-0.000926</td>\n",
       "      <td>-0.016618</td>\n",
       "      <td>...</td>\n",
       "      <td>-0.005118</td>\n",
       "      <td>-0.048675</td>\n",
       "      <td>0.001887</td>\n",
       "      <td>0.000476</td>\n",
       "      <td>0.022437</td>\n",
       "      <td>0.038792</td>\n",
       "      <td>0.032043</td>\n",
       "      <td>0.182781</td>\n",
       "      <td>-0.066797</td>\n",
       "      <td>-0.027983</td>\n",
       "    </tr>\n",
       "    <tr>\n",
       "      <th>Light Blue</th>\n",
       "      <td>0.231090</td>\n",
       "      <td>-0.009461</td>\n",
       "      <td>-0.058568</td>\n",
       "      <td>-0.046141</td>\n",
       "      <td>0.520713</td>\n",
       "      <td>-0.125803</td>\n",
       "      <td>0.082820</td>\n",
       "      <td>0.089513</td>\n",
       "      <td>0.037863</td>\n",
       "      <td>-0.003670</td>\n",
       "      <td>...</td>\n",
       "      <td>-0.006954</td>\n",
       "      <td>-0.057622</td>\n",
       "      <td>-0.011591</td>\n",
       "      <td>0.010955</td>\n",
       "      <td>0.024171</td>\n",
       "      <td>-0.037655</td>\n",
       "      <td>0.009060</td>\n",
       "      <td>0.040794</td>\n",
       "      <td>-0.008889</td>\n",
       "      <td>0.066670</td>\n",
       "    </tr>\n",
       "    <tr>\n",
       "      <th>Jimmy Choo</th>\n",
       "      <td>0.207885</td>\n",
       "      <td>0.024288</td>\n",
       "      <td>-0.032915</td>\n",
       "      <td>0.000309</td>\n",
       "      <td>0.013073</td>\n",
       "      <td>0.054990</td>\n",
       "      <td>-0.016817</td>\n",
       "      <td>-0.004307</td>\n",
       "      <td>0.030082</td>\n",
       "      <td>0.005535</td>\n",
       "      <td>...</td>\n",
       "      <td>0.017917</td>\n",
       "      <td>0.019714</td>\n",
       "      <td>0.003307</td>\n",
       "      <td>-0.018178</td>\n",
       "      <td>-0.033812</td>\n",
       "      <td>0.019917</td>\n",
       "      <td>-0.016046</td>\n",
       "      <td>0.004235</td>\n",
       "      <td>0.036425</td>\n",
       "      <td>-0.010354</td>\n",
       "    </tr>\n",
       "    <tr>\n",
       "      <th>Eternity</th>\n",
       "      <td>0.224619</td>\n",
       "      <td>0.494642</td>\n",
       "      <td>0.437696</td>\n",
       "      <td>-0.029415</td>\n",
       "      <td>0.045799</td>\n",
       "      <td>0.054260</td>\n",
       "      <td>0.004954</td>\n",
       "      <td>-0.021750</td>\n",
       "      <td>-0.028022</td>\n",
       "      <td>-0.002614</td>\n",
       "      <td>...</td>\n",
       "      <td>-0.092253</td>\n",
       "      <td>0.072325</td>\n",
       "      <td>-0.035168</td>\n",
       "      <td>0.027892</td>\n",
       "      <td>-0.038954</td>\n",
       "      <td>-0.044067</td>\n",
       "      <td>0.044568</td>\n",
       "      <td>-0.011204</td>\n",
       "      <td>0.006916</td>\n",
       "      <td>0.063553</td>\n",
       "    </tr>\n",
       "    <tr>\n",
       "      <th>Pink Sugar</th>\n",
       "      <td>0.199189</td>\n",
       "      <td>0.016962</td>\n",
       "      <td>-0.044935</td>\n",
       "      <td>0.029250</td>\n",
       "      <td>-0.009097</td>\n",
       "      <td>0.019822</td>\n",
       "      <td>-0.038489</td>\n",
       "      <td>0.022162</td>\n",
       "      <td>0.011736</td>\n",
       "      <td>0.010151</td>\n",
       "      <td>...</td>\n",
       "      <td>-0.048462</td>\n",
       "      <td>-0.077322</td>\n",
       "      <td>0.020918</td>\n",
       "      <td>-0.001315</td>\n",
       "      <td>-0.045846</td>\n",
       "      <td>0.086400</td>\n",
       "      <td>0.040653</td>\n",
       "      <td>-0.056666</td>\n",
       "      <td>0.014601</td>\n",
       "      <td>-0.044188</td>\n",
       "    </tr>\n",
       "  </tbody>\n",
       "</table>\n",
       "<p>5 rows × 25 columns</p>\n",
       "</div>"
      ],
      "text/plain": [
       "                      0         1         2         3         4         5   \\\n",
       "Fragrance                                                                    \n",
       "Bright Crystal  0.186023  0.067067 -0.079168  0.017677  0.003714 -0.003262   \n",
       "Light Blue      0.231090 -0.009461 -0.058568 -0.046141  0.520713 -0.125803   \n",
       "Jimmy Choo      0.207885  0.024288 -0.032915  0.000309  0.013073  0.054990   \n",
       "Eternity        0.224619  0.494642  0.437696 -0.029415  0.045799  0.054260   \n",
       "Pink Sugar      0.199189  0.016962 -0.044935  0.029250 -0.009097  0.019822   \n",
       "\n",
       "                      6         7         8         9   ...        15  \\\n",
       "Fragrance                                               ...             \n",
       "Bright Crystal -0.053653  0.024732 -0.000926 -0.016618  ... -0.005118   \n",
       "Light Blue      0.082820  0.089513  0.037863 -0.003670  ... -0.006954   \n",
       "Jimmy Choo     -0.016817 -0.004307  0.030082  0.005535  ...  0.017917   \n",
       "Eternity        0.004954 -0.021750 -0.028022 -0.002614  ... -0.092253   \n",
       "Pink Sugar     -0.038489  0.022162  0.011736  0.010151  ... -0.048462   \n",
       "\n",
       "                      16        17        18        19        20        21  \\\n",
       "Fragrance                                                                    \n",
       "Bright Crystal -0.048675  0.001887  0.000476  0.022437  0.038792  0.032043   \n",
       "Light Blue     -0.057622 -0.011591  0.010955  0.024171 -0.037655  0.009060   \n",
       "Jimmy Choo      0.019714  0.003307 -0.018178 -0.033812  0.019917 -0.016046   \n",
       "Eternity        0.072325 -0.035168  0.027892 -0.038954 -0.044067  0.044568   \n",
       "Pink Sugar     -0.077322  0.020918 -0.001315 -0.045846  0.086400  0.040653   \n",
       "\n",
       "                      22        23        24  \n",
       "Fragrance                                     \n",
       "Bright Crystal  0.182781 -0.066797 -0.027983  \n",
       "Light Blue      0.040794 -0.008889  0.066670  \n",
       "Jimmy Choo      0.004235  0.036425 -0.010354  \n",
       "Eternity       -0.011204  0.006916  0.063553  \n",
       "Pink Sugar     -0.056666  0.014601 -0.044188  \n",
       "\n",
       "[5 rows x 25 columns]"
      ]
     },
     "execution_count": 14,
     "metadata": {},
     "output_type": "execute_result"
    }
   ],
   "source": [
    "n = 25 #pick components\n",
    "#Use elbow and cumulative plot to pick number of components. \n",
    "#Need high ammount of variance explained. \n",
    "doc_labels = main_df['Fragrance']\n",
    "svd_feature_matrix = pd.DataFrame(latent_matrix[:,0:n] ,index=doc_labels)\n",
    "print(svd_feature_matrix.shape)\n",
    "svd_feature_matrix.head()"
   ]
  },
  {
   "cell_type": "code",
   "execution_count": 15,
   "metadata": {},
   "outputs": [
    {
     "name": "stdout",
     "output_type": "stream",
     "text": [
      "Enter the scents that you like :Mint, Apples, Orange, beaches, Summer\n"
     ]
    }
   ],
   "source": [
    "liked_scents = input(\"Enter the scents that you like :\")"
   ]
  },
  {
   "cell_type": "code",
   "execution_count": 16,
   "metadata": {},
   "outputs": [
    {
     "data": {
      "text/plain": [
       "'mint appl orang beach summer'"
      ]
     },
     "execution_count": 16,
     "metadata": {},
     "output_type": "execute_result"
    }
   ],
   "source": [
    "liked_scents = clean_text(liked_scents)\n",
    "liked_scents"
   ]
  },
  {
   "cell_type": "code",
   "execution_count": 17,
   "metadata": {},
   "outputs": [],
   "source": [
    "def get_message_tfidf_embedding_vector(message):\n",
    "    message_array = tf.transform([message]).toarray()\n",
    "    message_array = svd.transform(message_array)\n",
    "    message_array = message_array[:,0:25].reshape(1, -1)\n",
    "    return message_array"
   ]
  },
  {
   "cell_type": "code",
   "execution_count": 18,
   "metadata": {},
   "outputs": [],
   "source": [
    "liked_scents_array = get_message_tfidf_embedding_vector(liked_scents)"
   ]
  },
  {
   "cell_type": "code",
   "execution_count": 19,
   "metadata": {},
   "outputs": [
    {
     "data": {
      "text/plain": [
       "array([[ 0.06283713,  0.0340955 , -0.00456549,  0.00318895,  0.01864855,\n",
       "         0.02374634, -0.01421003,  0.04410372, -0.02259292, -0.00097176,\n",
       "         0.01224285, -0.00716634, -0.0375522 , -0.01843727, -0.00992904,\n",
       "        -0.0314368 , -0.03958682,  0.01899384, -0.01420274,  0.03920078,\n",
       "        -0.019255  ,  0.01496117, -0.0060883 ,  0.01492954,  0.03871893]])"
      ]
     },
     "execution_count": 19,
     "metadata": {},
     "output_type": "execute_result"
    }
   ],
   "source": [
    "liked_scents_array"
   ]
  },
  {
   "cell_type": "code",
   "execution_count": 20,
   "metadata": {},
   "outputs": [],
   "source": [
    "def get_similarity_scores(message_array, embeddings):\n",
    "    cosine_sim_matrix = pd.DataFrame(cosine_similarity(X=embeddings,Y=message_array,dense_output=True))\n",
    "    cosine_sim_matrix.set_index(embeddings.index, inplace=True)\n",
    "    cosine_sim_matrix.columns = [\"cosine_similarity\"]\n",
    "    return cosine_sim_matrix"
   ]
  },
  {
   "cell_type": "code",
   "execution_count": 21,
   "metadata": {},
   "outputs": [],
   "source": [
    "similar_items = get_similarity_scores(liked_scents_array, svd_feature_matrix)\n",
    "similar_items.sort_values(by=\"cosine_similarity\", ascending=False, inplace=True)"
   ]
  },
  {
   "cell_type": "code",
   "execution_count": 22,
   "metadata": {},
   "outputs": [
    {
     "data": {
      "text/html": [
       "<div>\n",
       "<style scoped>\n",
       "    .dataframe tbody tr th:only-of-type {\n",
       "        vertical-align: middle;\n",
       "    }\n",
       "\n",
       "    .dataframe tbody tr th {\n",
       "        vertical-align: top;\n",
       "    }\n",
       "\n",
       "    .dataframe thead th {\n",
       "        text-align: right;\n",
       "    }\n",
       "</style>\n",
       "<table border=\"1\" class=\"dataframe\">\n",
       "  <thead>\n",
       "    <tr style=\"text-align: right;\">\n",
       "      <th></th>\n",
       "      <th>cosine_similarity</th>\n",
       "    </tr>\n",
       "    <tr>\n",
       "      <th>Fragrance</th>\n",
       "      <th></th>\n",
       "    </tr>\n",
       "  </thead>\n",
       "  <tbody>\n",
       "    <tr>\n",
       "      <th>Halloween Blue Drop</th>\n",
       "      <td>0.775433</td>\n",
       "    </tr>\n",
       "    <tr>\n",
       "      <th>Calyx</th>\n",
       "      <td>0.732209</td>\n",
       "    </tr>\n",
       "    <tr>\n",
       "      <th>Un Jardin Sur Le Nil</th>\n",
       "      <td>0.718521</td>\n",
       "    </tr>\n",
       "    <tr>\n",
       "      <th>I Love Love</th>\n",
       "      <td>0.685607</td>\n",
       "    </tr>\n",
       "    <tr>\n",
       "      <th>Laila</th>\n",
       "      <td>0.681775</td>\n",
       "    </tr>\n",
       "    <tr>\n",
       "      <th>...</th>\n",
       "      <td>...</td>\n",
       "    </tr>\n",
       "    <tr>\n",
       "      <th>Heliotrope Blanc</th>\n",
       "      <td>-0.089254</td>\n",
       "    </tr>\n",
       "    <tr>\n",
       "      <th>Diamonds &amp; Emeralds</th>\n",
       "      <td>-0.093262</td>\n",
       "    </tr>\n",
       "    <tr>\n",
       "      <th>Mon Guerlain Sensuelle</th>\n",
       "      <td>-0.111121</td>\n",
       "    </tr>\n",
       "    <tr>\n",
       "      <th>Mitsouko</th>\n",
       "      <td>-0.117955</td>\n",
       "    </tr>\n",
       "    <tr>\n",
       "      <th>L'instant</th>\n",
       "      <td>-0.142910</td>\n",
       "    </tr>\n",
       "  </tbody>\n",
       "</table>\n",
       "<p>959 rows × 1 columns</p>\n",
       "</div>"
      ],
      "text/plain": [
       "                        cosine_similarity\n",
       "Fragrance                                \n",
       "Halloween Blue Drop              0.775433\n",
       "Calyx                            0.732209\n",
       "Un Jardin Sur Le Nil             0.718521\n",
       "I Love Love                      0.685607\n",
       "Laila                            0.681775\n",
       "...                                   ...\n",
       "Heliotrope Blanc                -0.089254\n",
       "Diamonds & Emeralds             -0.093262\n",
       "Mon Guerlain Sensuelle          -0.111121\n",
       "Mitsouko                        -0.117955\n",
       "L'instant                       -0.142910\n",
       "\n",
       "[959 rows x 1 columns]"
      ]
     },
     "execution_count": 22,
     "metadata": {},
     "output_type": "execute_result"
    }
   ],
   "source": [
    "similar_items"
   ]
  },
  {
   "cell_type": "code",
   "execution_count": 23,
   "metadata": {},
   "outputs": [
    {
     "name": "stdout",
     "output_type": "stream",
     "text": [
      "Enter the scents that you dislike :Melons, Pears, honeysuckle, winter\n"
     ]
    }
   ],
   "source": [
    "disliked_scents = input(\"Enter the scents that you dislike :\")"
   ]
  },
  {
   "cell_type": "code",
   "execution_count": 24,
   "metadata": {},
   "outputs": [
    {
     "data": {
      "text/plain": [
       "'melon pear honeysuckl winter'"
      ]
     },
     "execution_count": 24,
     "metadata": {},
     "output_type": "execute_result"
    }
   ],
   "source": [
    "disliked_scents = clean_text(disliked_scents)\n",
    "disliked_scents"
   ]
  },
  {
   "cell_type": "code",
   "execution_count": 25,
   "metadata": {},
   "outputs": [],
   "source": [
    "disliked_scents_array = get_message_tfidf_embedding_vector(disliked_scents)"
   ]
  },
  {
   "cell_type": "code",
   "execution_count": 26,
   "metadata": {},
   "outputs": [
    {
     "data": {
      "text/plain": [
       "array([[ 0.03715376,  0.00408165, -0.01140519,  0.01084287,  0.00171816,\n",
       "         0.03670695, -0.01426177,  0.01503113,  0.00478679, -0.00951206,\n",
       "         0.00193191,  0.00249429, -0.00218823, -0.0009004 ,  0.00178584,\n",
       "        -0.00192621, -0.01271943,  0.00354538, -0.01284479,  0.01127751,\n",
       "         0.01657283, -0.00029646,  0.02065558,  0.01085139, -0.0040871 ]])"
      ]
     },
     "execution_count": 26,
     "metadata": {},
     "output_type": "execute_result"
    }
   ],
   "source": [
    "disliked_scents_array"
   ]
  },
  {
   "cell_type": "code",
   "execution_count": 27,
   "metadata": {},
   "outputs": [],
   "source": [
    "dissimilar_items = get_similarity_scores(disliked_scents_array, svd_feature_matrix)\n",
    "dissimilar_items.sort_values(by=\"cosine_similarity\", ascending=False, inplace=True)"
   ]
  },
  {
   "cell_type": "code",
   "execution_count": 28,
   "metadata": {},
   "outputs": [
    {
     "data": {
      "text/html": [
       "<div>\n",
       "<style scoped>\n",
       "    .dataframe tbody tr th:only-of-type {\n",
       "        vertical-align: middle;\n",
       "    }\n",
       "\n",
       "    .dataframe tbody tr th {\n",
       "        vertical-align: top;\n",
       "    }\n",
       "\n",
       "    .dataframe thead th {\n",
       "        text-align: right;\n",
       "    }\n",
       "</style>\n",
       "<table border=\"1\" class=\"dataframe\">\n",
       "  <thead>\n",
       "    <tr style=\"text-align: right;\">\n",
       "      <th></th>\n",
       "      <th>cosine_similarity</th>\n",
       "    </tr>\n",
       "    <tr>\n",
       "      <th>Fragrance</th>\n",
       "      <th></th>\n",
       "    </tr>\n",
       "  </thead>\n",
       "  <tbody>\n",
       "    <tr>\n",
       "      <th>Killer Queen</th>\n",
       "      <td>0.798238</td>\n",
       "    </tr>\n",
       "    <tr>\n",
       "      <th>Cartier La Panthere</th>\n",
       "      <td>0.771394</td>\n",
       "    </tr>\n",
       "    <tr>\n",
       "      <th>Bon Bon</th>\n",
       "      <td>0.734937</td>\n",
       "    </tr>\n",
       "    <tr>\n",
       "      <th>Jeanne Lanvin</th>\n",
       "      <td>0.700250</td>\n",
       "    </tr>\n",
       "    <tr>\n",
       "      <th>Moschino Pink Fresh Couture</th>\n",
       "      <td>0.693642</td>\n",
       "    </tr>\n",
       "    <tr>\n",
       "      <th>...</th>\n",
       "      <td>...</td>\n",
       "    </tr>\n",
       "    <tr>\n",
       "      <th>Michael Kors</th>\n",
       "      <td>-0.070352</td>\n",
       "    </tr>\n",
       "    <tr>\n",
       "      <th>Michael Kors 24k Brilliant Gold</th>\n",
       "      <td>-0.089302</td>\n",
       "    </tr>\n",
       "    <tr>\n",
       "      <th>Michael Kors Sporty Citrus</th>\n",
       "      <td>-0.090271</td>\n",
       "    </tr>\n",
       "    <tr>\n",
       "      <th>Alien</th>\n",
       "      <td>-0.158581</td>\n",
       "    </tr>\n",
       "    <tr>\n",
       "      <th>Jicky</th>\n",
       "      <td>-0.158954</td>\n",
       "    </tr>\n",
       "  </tbody>\n",
       "</table>\n",
       "<p>959 rows × 1 columns</p>\n",
       "</div>"
      ],
      "text/plain": [
       "                                 cosine_similarity\n",
       "Fragrance                                         \n",
       "Killer Queen                              0.798238\n",
       "Cartier La Panthere                       0.771394\n",
       "Bon Bon                                   0.734937\n",
       "Jeanne Lanvin                             0.700250\n",
       "Moschino Pink Fresh Couture               0.693642\n",
       "...                                            ...\n",
       "Michael Kors                             -0.070352\n",
       "Michael Kors 24k Brilliant Gold          -0.089302\n",
       "Michael Kors Sporty Citrus               -0.090271\n",
       "Alien                                    -0.158581\n",
       "Jicky                                    -0.158954\n",
       "\n",
       "[959 rows x 1 columns]"
      ]
     },
     "execution_count": 28,
     "metadata": {},
     "output_type": "execute_result"
    }
   ],
   "source": [
    "dissimilar_items"
   ]
  },
  {
   "cell_type": "code",
   "execution_count": 29,
   "metadata": {},
   "outputs": [],
   "source": [
    "dissimilar_items = dissimilar_items.query('cosine_similarity > 0.45')"
   ]
  },
  {
   "cell_type": "code",
   "execution_count": 30,
   "metadata": {},
   "outputs": [
    {
     "data": {
      "text/html": [
       "<div>\n",
       "<style scoped>\n",
       "    .dataframe tbody tr th:only-of-type {\n",
       "        vertical-align: middle;\n",
       "    }\n",
       "\n",
       "    .dataframe tbody tr th {\n",
       "        vertical-align: top;\n",
       "    }\n",
       "\n",
       "    .dataframe thead th {\n",
       "        text-align: right;\n",
       "    }\n",
       "</style>\n",
       "<table border=\"1\" class=\"dataframe\">\n",
       "  <thead>\n",
       "    <tr style=\"text-align: right;\">\n",
       "      <th></th>\n",
       "      <th>cosine_similarity</th>\n",
       "    </tr>\n",
       "    <tr>\n",
       "      <th>Fragrance</th>\n",
       "      <th></th>\n",
       "    </tr>\n",
       "  </thead>\n",
       "  <tbody>\n",
       "    <tr>\n",
       "      <th>Killer Queen</th>\n",
       "      <td>0.798238</td>\n",
       "    </tr>\n",
       "    <tr>\n",
       "      <th>Cartier La Panthere</th>\n",
       "      <td>0.771394</td>\n",
       "    </tr>\n",
       "    <tr>\n",
       "      <th>Bon Bon</th>\n",
       "      <td>0.734937</td>\n",
       "    </tr>\n",
       "    <tr>\n",
       "      <th>Jeanne Lanvin</th>\n",
       "      <td>0.700250</td>\n",
       "    </tr>\n",
       "    <tr>\n",
       "      <th>Moschino Pink Fresh Couture</th>\n",
       "      <td>0.693642</td>\n",
       "    </tr>\n",
       "    <tr>\n",
       "      <th>...</th>\n",
       "      <td>...</td>\n",
       "    </tr>\n",
       "    <tr>\n",
       "      <th>Cashmere Aura</th>\n",
       "      <td>0.452417</td>\n",
       "    </tr>\n",
       "    <tr>\n",
       "      <th>Jovan Black Musk</th>\n",
       "      <td>0.452272</td>\n",
       "    </tr>\n",
       "    <tr>\n",
       "      <th>Individuelle</th>\n",
       "      <td>0.452027</td>\n",
       "    </tr>\n",
       "    <tr>\n",
       "      <th>Kenneth Cole White</th>\n",
       "      <td>0.450758</td>\n",
       "    </tr>\n",
       "    <tr>\n",
       "      <th>Guess Seductive</th>\n",
       "      <td>0.450534</td>\n",
       "    </tr>\n",
       "  </tbody>\n",
       "</table>\n",
       "<p>251 rows × 1 columns</p>\n",
       "</div>"
      ],
      "text/plain": [
       "                             cosine_similarity\n",
       "Fragrance                                     \n",
       "Killer Queen                          0.798238\n",
       "Cartier La Panthere                   0.771394\n",
       "Bon Bon                               0.734937\n",
       "Jeanne Lanvin                         0.700250\n",
       "Moschino Pink Fresh Couture           0.693642\n",
       "...                                        ...\n",
       "Cashmere Aura                         0.452417\n",
       "Jovan Black Musk                      0.452272\n",
       "Individuelle                          0.452027\n",
       "Kenneth Cole White                    0.450758\n",
       "Guess Seductive                       0.450534\n",
       "\n",
       "[251 rows x 1 columns]"
      ]
     },
     "execution_count": 30,
     "metadata": {},
     "output_type": "execute_result"
    }
   ],
   "source": [
    "dissimilar_items"
   ]
  },
  {
   "cell_type": "code",
   "execution_count": 31,
   "metadata": {},
   "outputs": [],
   "source": [
    "try:\n",
    "    similar_items = similar_items.drop(dissimilar_items.index)\n",
    "except:\n",
    "    pass"
   ]
  },
  {
   "cell_type": "code",
   "execution_count": 32,
   "metadata": {},
   "outputs": [],
   "source": [
    "similar_items = similar_items.head()"
   ]
  },
  {
   "cell_type": "code",
   "execution_count": 33,
   "metadata": {},
   "outputs": [],
   "source": [
    "import matplotlib.pyplot as plt\n",
    "from skimage import io\n",
    "from textwrap import wrap"
   ]
  },
  {
   "cell_type": "code",
   "execution_count": 34,
   "metadata": {},
   "outputs": [],
   "source": [
    "def view_recommendations(recs):\n",
    "    fig, axes = plt.subplots(nrows=1, ncols=5, figsize=(15,10))\n",
    "    ax = axes.ravel()\n",
    "\n",
    "    for i in range(len(recs)):\n",
    "        single_name = recs.index.tolist()[i]\n",
    "        single_frag = main_df.query('Fragrance==@single_name')\n",
    "        name = single_frag.Fragrance.values[0]\n",
    "        by = single_frag.By.values[0]\n",
    "        title = \"{} \\n by: {}\".format(name, by)\n",
    "        \n",
    "        frag_image = single_frag.Image.values[0]\n",
    "        image = io.imread(frag_image)\n",
    "        ax[i].imshow(image)\n",
    "        ax[i].set_yticklabels([])\n",
    "        ax[i].set_xticklabels([])\n",
    "        ax[i].set_title(\"\\n\".join(wrap(title, 20)))\n",
    "        ax[i].axis('off')\n",
    "\n",
    "    plt.show()"
   ]
  },
  {
   "cell_type": "code",
   "execution_count": 35,
   "metadata": {},
   "outputs": [
    {
     "data": {
      "image/png": "[encoded data removed]",
      "text/plain": [
       "<Figure size 1080x720 with 5 Axes>"
      ]
     },
     "metadata": {
      "needs_background": "light"
     },
     "output_type": "display_data"
    }
   ],
   "source": [
    "view_recommendations(similar_items)"
   ]
  },
  {
   "cell_type": "code",
   "execution_count": null,
   "metadata": {},
   "outputs": [],
   "source": []
  }
 ],
 "metadata": {
  "kernelspec": {
   "display_name": "Python 3",
   "language": "python",
   "name": "python3"
  },
  "language_info": {
   "codemirror_mode": {
    "name": "ipython",
    "version": 3
   },
   "file_extension": ".py",
   "mimetype": "text/x-python",
   "name": "python",
   "nbconvert_exporter": "python",
   "pygments_lexer": "ipython3",
   "version": "3.8.3"
  }
 },
 "nbformat": 4,
 "nbformat_minor": 4
}
